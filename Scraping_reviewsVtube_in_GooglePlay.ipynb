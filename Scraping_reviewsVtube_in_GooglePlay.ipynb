{
  "nbformat": 4,
  "nbformat_minor": 0,
  "metadata": {
    "colab": {
      "name": "Scraping-reviewsVtube-in-GooglePlay.ipynb",
      "provenance": [],
      "authorship_tag": "ABX9TyPD1rF51rZerS7ctN55GRM8",
      "include_colab_link": true
    },
    "kernelspec": {
      "name": "python3",
      "display_name": "Python 3"
    },
    "language_info": {
      "name": "python"
    }
  },
  "cells": [
    {
      "cell_type": "markdown",
      "metadata": {
        "id": "view-in-github",
        "colab_type": "text"
      },
      "source": [
        "<a href=\"https://colab.research.google.com/github/numerikdotid/Buku-Text-Mining/blob/main/Scraping_reviewsVtube_in_GooglePlay.ipynb\" target=\"_parent\"><img src=\"https://colab.research.google.com/assets/colab-badge.svg\" alt=\"Open In Colab\"/></a>"
      ]
    },
    {
      "cell_type": "code",
      "execution_count": 42,
      "metadata": {
        "colab": {
          "base_uri": "https://localhost:8080/"
        },
        "id": "yLqBDvvOIvHC",
        "outputId": "3cbd01f7-2283-4e11-81ba-f6a2f78d716c"
      },
      "outputs": [
        {
          "output_type": "stream",
          "name": "stdout",
          "text": [
            "Looking in indexes: https://pypi.org/simple, https://us-python.pkg.dev/colab-wheels/public/simple/\n",
            "Requirement already satisfied: google-play-scraper in /usr/local/lib/python3.7/dist-packages (1.2.0)\n"
          ]
        }
      ],
      "source": [
        "!pip install google-play-scraper"
      ]
    },
    {
      "cell_type": "code",
      "source": [
        "import pandas as pd"
      ],
      "metadata": {
        "id": "V1B0MW43NH19"
      },
      "execution_count": 28,
      "outputs": []
    },
    {
      "cell_type": "code",
      "source": [
        "app_packages = 'co.vtube.fvtech'"
      ],
      "metadata": {
        "id": "d5EAsWbGOY4R"
      },
      "execution_count": 48,
      "outputs": []
    },
    {
      "cell_type": "markdown",
      "source": [
        "**Detail Aplikasi**"
      ],
      "metadata": {
        "id": "XB9wFkmtNrXx"
      }
    },
    {
      "cell_type": "code",
      "source": [
        "from google_play_scraper import app\n",
        "\n",
        "result = app(\n",
        "    app_packages,\n",
        "    lang='id', # defaults to 'en'\n",
        "    country='id' # defaults to 'us'\n",
        ")"
      ],
      "metadata": {
        "id": "cFaW-iWiIwKw"
      },
      "execution_count": 49,
      "outputs": []
    },
    {
      "cell_type": "code",
      "source": [
        "print(result)"
      ],
      "metadata": {
        "colab": {
          "base_uri": "https://localhost:8080/"
        },
        "id": "WBgqfRyGIwWs",
        "outputId": "431bb073-4e57-4536-e140-0eee1defe39b"
      },
      "execution_count": 50,
      "outputs": [
        {
          "output_type": "stream",
          "name": "stdout",
          "text": [
            "{'title': 'vTube 3.0', 'description': 'vTube by Future View Tech (www.fvtech.id) is a video sharing platform that accommodates everyone from different generations to adapt to social media and IT technologies. Ultimately. growing awareness and increasing the Indonesian online community.\\r\\n\\r\\n📧 support@vtube.co - End-user support\\r\\n📧 partnership@vtube.co - Partnership Inquiries\\r\\n📧 admin@vtube.co - Policy issues and legal inquiries', 'descriptionHTML': 'vTube by Future View Tech (www.fvtech.id) is a video sharing platform that accommodates everyone from different generations to adapt to social media and IT technologies. Ultimately. growing awareness and increasing the Indonesian online community.<br><br>📧 support@vtube.co - End-user support<br>📧 partnership@vtube.co - Partnership Inquiries<br>📧 admin@vtube.co - Policy issues and legal inquiries', 'summary': 'Platform berbagi gaya hidup Indonesia', 'installs': '10.000.000+', 'minInstalls': 10000000, 'realInstalls': 11463777, 'score': 4.4576273, 'ratings': 326608, 'reviews': 205102, 'histogram': [29770, 6551, 11188, 16024, 263069], 'price': 0, 'free': True, 'currency': 'IDR', 'sale': False, 'saleTime': None, 'originalPrice': None, 'saleText': None, 'offersIAP': True, 'inAppProductPrice': 'Rp\\xa03.000,00 - Rp\\xa05.096.000,00 per item', 'developer': 'Future View Tech', 'developerId': 'Future+View+Tech', 'developerEmail': 'support@vtube.co', 'developerWebsite': 'http://www.vtube.co', 'developerAddress': 'Gedung Kinanti Building Lantai 2,\\nJalan Epicentrum  Tengah No. 3,\\nKawasan Rasuna Epicentrum Kuningan,\\nKel. Karet Kuningan, Kec. Setiabudi,\\nKota Adm. Jakarta Selatan,\\nDKI Jakarta 62090', 'privacyPolicy': 'http://fvtech.id/?page_id=2', 'genre': 'Sosial', 'genreId': 'SOCIAL', 'icon': 'https://play-lh.googleusercontent.com/Cd6jEXQ2KVHnQNJJswNcBwOTtXwe48TpARV5EGoK4QE97hWusYI3W8LqL43OyZMhags', 'headerImage': 'https://play-lh.googleusercontent.com/OGsHWl7w3Aa24Lq8SIclcnubPiggWebWhVqX_CUUyMdVyB45qMtv1c21CkTNvyLZTgY', 'screenshots': ['https://play-lh.googleusercontent.com/I_ct8CFRERF3dZtlvOdFu1N3NnhPs1pPRQQGQtBZTVrb2oiXRvEoP3ckcI81ytsX3Vk', 'https://play-lh.googleusercontent.com/UlIhGNjCcyS20x63J7KgYwwcPFWaKI75FBbzL13Y0Uy5Q0deocNGts-f0cGlZrrU3KA6', 'https://play-lh.googleusercontent.com/toZjzJ5G5u_60zRQe57WxnIh3oWUEGdu5jNzWNzGW3ruwtttsJih4xOlRa5UFsKUvQ', 'https://play-lh.googleusercontent.com/Lo3r9E3TsR9IRdRxMAZgqfrcpBTQNpzQ9TDdpktNP-Lo3dY_Zo2N3nR_bKXbIfUQBPw', 'https://play-lh.googleusercontent.com/5KW0CSh4drV560DLDf86eWPUCL6pM2MYxjm8-TIn_modHRU0yKqUVQjnQYAxUEHeg2M', 'https://play-lh.googleusercontent.com/WZ40zRBjVLiTXF_rZfsd-yQnOPX6pBLwUHUZdU3nZ-Iwx5QkGJD0DYFuBOn4WYJT5yg', 'https://play-lh.googleusercontent.com/XdodpBwPxeEqFlUgGatvZmAimnkYkvPblofaonXcLb64VvVsmb2PdjQmmRlpKIr8nlep', 'https://play-lh.googleusercontent.com/HxnBAo8Eoi7oikwC-4bDBndZZbltUelUq4HKv0xq_SYsCU2R7D24LdqVwihVuXYZf64'], 'video': None, 'videoImage': None, 'contentRating': 'Rating 12+', 'contentRatingDescription': 'Disarankan dengan Bimbingan Orang Tua', 'adSupported': True, 'containsAds': True, 'released': '4 Jun 2020', 'updated': 1626678124, 'version': '3.0.9', 'recentChanges': 'See what the community has to share, ranging from the popular music videos to trending in gaming, entertainment, business, lifestyle, and more!\\r\\n\\r\\nChangelogs\\r\\n• 🎨 Revamped overall UI and other goodies\\r\\n• 🎬 Improved video playing feature\\r\\n• 🏬 Improved Ad posting features\\r\\n• 🐛Bug Fixes\\r\\n• 📈 Performance tunings FASTER BETTER\\r\\n• 👮 Security improvements\\r\\n• ♾️ More features coming soon', 'recentChangesHTML': 'See what the community has to share, ranging from the popular music videos to trending in gaming, entertainment, business, lifestyle, and more!<br><br>Changelogs<br>• 🎨 Revamped overall UI and other goodies<br>• 🎬 Improved video playing feature<br>• 🏬 Improved Ad posting features<br>• 🐛Bug Fixes<br>• 📈 Performance tunings FASTER BETTER<br>• 👮 Security improvements<br>• ♾️ More features coming soon', 'comments': ['Vtube mantap. Aplikasi versi 2.0 tampilannya oke banget... Mantul dh.. yang bilang vtube error cek jaringan ya. Cek juga sampah cache nya... Saya belum pernah menemukan masalah dengan aplikasi vtube. Dan mudah mudahan tidak akan pernah ada... Alat tempur untuk tanggal 4 Septembee sudah siap... Go go go.. diamond go...!!!!', 'Masih harus ada pembenahan... Saat login msh ada kendala (ada jeda blank putih dan item), saat jalankan misi ato buka menu² d vtube-nya kadang ada blank hitam....intinya running sistemnya blm \"smooth\" walopun signal udh full. Tp sangat di maklumi br umur 2 bulan masih banyaaak yg mesti di perbaiki dan di kembangkan... tp gebrakannya udh SANGAT LUAR BIASA !!! So far...VTUBE OK, cocok dg situasi saat ini yg serba digital. Sangat di tunggu fitur² terobosan barunya. MAKIN SUKSES VTUBE💪', 'Mohon maaf sebelumnya, sebenarnya aplikasi vtube ini awalnya bagus, nonton iklan lancar\" aja.. tapi lama kelamaan kenapa saya nonton iklan sudah berulang kali tetapi misinya ngga nambah\", padahal sudah dikasi waktu selang 10 menit tetap aja ngga nambah\", bahkan sampai berjam\" tetap aja dicoba ngga bisa-bisa..padahal jaringannya bagus-bagus amat... mohon yaa untuk pihak vtube agar diperbaiki lagi sistemnya.. Sayangkan banyak banget yang menggunakan aplikasi ini, tapi sistemnya eror terus... Mohon Adm perbaiki servernya, biar gak ada masalah kayak gini,,....Terima kasih', 'Saya akui aplikasi ini sudah cukup bermanfaat untuk banyak orang, namun ada sedikit masalah pada aplikasinya yang sering terjadi tiba\" akun logout dan tidak munculnya kode capta, padahal jaringan sudah bagus karena masih bisa berfungsi pada aplikasi yang berbeda. Untuk kedepannya semoga untuk diperbaiki dan lebih ditingkatkan lagi. Terimakasih.', 'Aplikasi yg sangat membangun semangat anak bangsa. Tp sayang suka hilang iklannya dan gk bisa login. Mohon sistemnya ditingkatkan lagi performanya biar lancar dan semangat mengumpulkan vp.. 💪💪💪 kasih 3 dulu nanti kalo sudah lancar aku edit lagi', 'Aplikasi cukup ringan, dengan pengguna yg mencapai 16 juta, dan selalu di-update dg cepat bila ditemukan bug. Bug pasti tetap ada karena buatan manusia tidak ada yg sempurna. Saya memberi bintang 5 karena pengalaman 30 tahun dibidang coding program komputer dan mengolah big data. Programmer vtube perlu ujian dibidang security data, mudahan bisa lolos, sehingga tidak membuat kacau data di vtube. Jangan pernah berhenti pengembangan', 'Saran untuk IT nya klau bisa cantumkan menit di dalam aplikasinya. Biar kami tahu kapan kami bisa nonton vidio lagi. Maksudnya ketika sdh nonton iklan, ada jeda waktu 10 menit. Nah.... Tolong buatkan menit di ApLikasinya. Biar ketika kami buka aplikasinya tertera waktu misal 3 menit lagi atau 4 menit lagi baru bisa nonton iklan. Trima kasih', 'Untuk Vtube aplikasi sangat2 bermanfaat,, Hny nonton sekitar 10 detik dan menyelesaikan misi sudah menghasilkan $,, Tapi tolong di perbaiki mengenai sistem,, saya dan rekan2 saya telah mnyelesai kn misi tetapi dlm wktu 24 jam blum juga bertambah poin ny,, jadi untuk admin tolong perbaiki sistem ini,, klu tidak saya akan menghapus aplikasi nya ,terima kasih.', 'Salam hormat Sekedar masukan Dibandingkan dengan versi 2.1.2, maka versi 2.1.3 dan 2.1.4 terkesan sangat lambat, dalam merespon berbagai hal, bukan hanya jedah waktu menunggu gambar atau video ads yang cukup lama (direfresh berulangkali, juga hasilnya sama), saya berharap sedikit kebaikan dari fihak VTube agar bisa menanggulangi hal ini. Sekali lagi mohon maaf, sebesar2nya. 🙏🙏🙏', 'Lebih baik. Di tampilkan detik tentu nya biar tau . Lagi lag atau idah slesai nonton nya. Tapi sayang kadang kadang gak bisa muter vidio. Itu aja tolong di perbaiki. Sukses selalu v tube aplikasi bukan kaleng kaleng menjanjikan .', 'Tolong perbaiki lagi aplikasinya.. Loading lambat, tidak ada pemberitahuan batas waktu, jadi ribet nonton iklannya, trus udah nonton iklan misi lama tampilnya.. Contoh (0/10) saya sudah nongton iklan masih (0/10) tolong perbaiki', 'Semenjak di upgrade versi kedua, sering logout sendiri, juga sering ga bisa login,, aplikasi nya jadi ga guna, 10 misi jadi sulit selesainya,, aku coba di dua hp sama aja hasil nya, Wifi dan paket juga udah dicoba', 'Tolong di perbaiki lagi fungsinya seperti awal. Biar lancar pemutaran iklannya. Orang tua juga biar lebih gampang fahamnya Bagi kami masalah tampilan yang baru itu kurang kondusif buat para orang tua sebab warna nya kurang terlihat jelas. Dan mohon sekali lagi fungsinya lebih di tingkatkan lagi. Menu me/saya kalo baru masuk tolong di perbaiki lagi keseringan ng_heng/gak nampak gambar ikon misi data dllnya. Tolong perhatian nya 🙏 Makasih', 'Terima kasih vTube telah mengembangkan aplikasi seperti ini , alhamdulillah pemasukan sampingan saya ada hehe . Buat temen\" yang ingin sukses atau mau mempunyai tambahan sampingan dan susah buat terverifikasi masukan refferal tingkat 2 biae gampang , silahkan masukin ( 920039 ) jika ingin terferivikasi dengan cepat . Kita bisa sukses sama\" .', 'Perbaiki percepatan sinyal Min, setiap menjalankan misi VP nya lambat masuk., terkadang gak masuk sama se sekali. Padahal sudah di scroll berkali kali. Satu lagi agar ada tanda waktu nya setiap jeda 10 menit sperti contoh di awal. Maju terus VTube.', 'Tolong di perbaiki masalah bug chapta tidak muncul, sinyal bgus untuk streaming / download lancar, tetapi buka vtube kadang kadang chapta tidak muncul, klo sekedar solusi mati & hidupin data , sudah sering saya lakukan, tetapi bug nya tetap saja tidak hilang karena tidak di atasi,masa iya saya harus mati & hidupin mode pesawat saya tiap saya harus login, belum lagi yang mengerjakan misi baru bisa mngerjakan nya malam, tetapi ada masalah bug seperti ini, tolonglah segera perbaiki. Terima kasih', 'Aplilasi yang sangat berguna dan bermanfaat.bagi yg sedang ingin mendapat hasil tambahan dan kerja sampingan.aplikasi ini sangat membantu.Caranya mudah sekali,ketika daftar masukan nama:...,nik Ktp :...dan kode referal: 6261508. Nanti jika sudah berhasil terdaftar,anda akan melihat no wa saya,jika perlu bimbingan wa saya jangan sungkan sungkan. Insyaallah dengan aplikasi ini kita bisa sukses bersama.Aamiin', 'Segini dulu, Udah bagus sih. Tapi coba saja kalau Transaksi penjualan dan Pembelian VP di integrasikan langsung di Aplikasi utama Vitubnya. Di buat sistem seperti Marketplace pada umumnya, dmna penjual dan pembeli di pelantarai Vitube terutama dalam pembayaran. artinya ketika ada transaksi, ada jaminan ke amanan yg lebih transparan.', 'Mohon maaf sebelumnya, sebenarnya aplikasi vtube ini awalnya bagus, nonton iklan lancar\" aja.. tapi lama kelamaan kenapa saya nonton iklan sudah berulang kali tetapi misinya ngga nambah\", padahal sudah dikasi waktu selang 10 menit tetap aja ngga nambah\", bahkan sampai berjam\" tetap aja dicoba ngga bisa-bisa..padahal jaringannya bagus-bagus amat... mohon yaa untuk pihak vtube agar diperbaiki lagi sistemnya.. Sayangkan banyak banget yang menggunakan aplikasi ini, tapi sistemnya eror terus...', '( Ayo ubah hiburan menjadi penghasilan.) Aplikasi yg bagus dan sangat berguna. Bgi yg sedang kesulitan dlm hal keuwangan atau ingin mencari kerja smpingan. Aplikasi ini sangat membantu, caranya mudah sekali. Ketika daftar masukkan NAMA..... ( Sesuai KTP ) NIK... ( No KTP ) kode referrel:,11157798 nanti jika sudah berhasil daftar, anda akan melihat no wa sya didalam aplikasi tersebut sebagai upline / pembibingan anda smga brhasil dan sukses.', 'Masya Allah! Saya bersyukur dikenalkan dg aplikasi VTUBE ini. VTUBE aplikasi the best saat ini. Hanya dengan menonton iklan kita bisa mendapatkan income yg fantastis. Semoga managemen VTUBE selalu konsisten untuk perubahan/upgrade fitur yg lbih baik lgi guna mempermudah VTUBER dalam mengoperasikan aplikasi yg luar biasa ini.', 'Vtube aplikasi yg sangat bagus, kita nonton video tp di bayar itu sih keren bgt, buat temen2 yg pengen juga ngerasain nonton video tp di bayar bisa daftar juga, cari pengundang yg bisa membimbing bukan hanya sekedar mendaftarkan saja. Oke sukses terus vtube semoga kedepan semakin berkembang dan semakin bagus fitur2nya buat para pengguna.', 'Aplikasi suka log out sendiri, saat ingin mengerjakan misi sering sekali lag Dan tidak suka sama sistem mendapatkan viewpoint yg dmn 1 hari harus menonton 10 iklan, tetapi dalam jangka 10 menit setiap 1 iklan, itu bisa menghabiskan waktu 1 jam 40 menit. Yg dmn itu sangat membutuhkan waktu lama. Dan harus di kerjakan selama 1 bln lebih, dan sistem penarikan yg di minimal 10 viewpoint dan kena biaya admin 3 viewpoint (CMIIW), sangat merugikan bagi saya, bnyk wkt dihbskan dan hsil yg tdk sesuai', 'Saran kalau bisa di bikin sistem sekali login agar lebih mudah karena setiap login harus pakai captha dan jaringan di setiap daerah berbeda jadi kadang susah muncul capthanya, dan juga jika tidak sempat menyelesaikan misi view ads agar tidak di reset semua view point yang di dapat menjadi 0 lagi karena kemungkinan ada yang hari itu tidak bisa menyelesaikan misi karena gangguan sinyal atau sedang sibuk,untuk yang lainnya sudah sangat baik', 'Kenapa koq sering miss hasil misi tidak terrecord (VP). sudah di refresh, di riwayat juga tidak muncul. Mission juga sudah diaktifkan sebelum nonton iklan. Juga Benefit nonton dr downline, tidak masuk di upline, setelah claim misi nonton. Androiid Version OS, apakah kompatible untuk applikasi ini. Mohon penjelasannya. Bila ada kurang sempurna, semoga bisa cepat teratasi. Terima kasih.', 'Untuk aplikasinya lebih dimutualkan kembali masih sangat banyak keķurangannya, untuk video masih banyak yg belum bisa di komen serta kritikan masih dalam pemograman, apalagi sekarang sudah masuknya aplikasi baru yg serupa, semakin banyak pesaing semakin cepat seharusnya berkembang', 'Aplikasi Vtube sangat bagus sekali. Bnyak memberikan manfaat untuk Bnyak orang. Saya sangat terbantu sekali dr aplikasi Vtube ini. Di musim pandemi,cara dan konsep marketing plan Vtube sangat simpel dan mudah. Mantap pokoknya bisa mengentaskan taraf hidup Bnyak orang. Rekomend banget pokoknya!', 'Aplikasinya buruk sekali... Mau check in ambil reward tiap hari aja, udah di click hampir seribu kali, gak bisa, kayak aplikasi gak berfungsi. Trus, udah nonton iklan puluhan kali, yg ke itung cuma satu kali... BANGKE!!!', 'Aplikasi yang sangat bagus, menarik, dan pastinya sangat membantu. Tapi mungkin bisa lebih diperbaiki lagi, karena terkadang eror sinyal, pdahal sinyal saya bagus, tp tiba\" harus login dan login serta kode capcha itu tidak muncul, hp harus restart dl, baru bisa login kembali. Mdh\"n bisa dioptimalkan lagi. Tapi, terima kasih dan sangat menyenangkan krena aplikasi ini sangat membantu.', 'Teknologi digital yang nyata, yang bisa menghasilkan income disaat pandemi. Asalkan sabar dan konsisten dengan tujuan, yakin akan ada hasil nya. Yang luar biasa, bisa dikerjakan oleh semua kalangan tanpa memandang latar belakang. Thank vtobe', 'Untuk para pihak Vtube yg terhormat. Vtube yg udh di update ini knp sih?? Saya udh nonton iklan, tapi kok misinya kadang bertambah dan kadang gak bertambah yaa?? Padahal jeda per iklannya udh saya lebihkan 10 menit, ada yg lebih sampe 20 dan 30 menit bahkan terkadang udh lebih 1 jam masih aja gak nambah misi setelah menonton iklan. Apa mungkin dari koneksi saya?? Tapi ga mungkin sih, youtube lancar, main game lancar, download game lancar DLL, enak2 aja tuh. Tolong di periksa dan di perbaikin yah', 'Mantap... keamanan aplikasi ini memang patut diacungi jempol👍👍👍👍👍 Semoga VTUBE INDONESIA maju dan berkembang. Tetapi saya gak pake versi 2.1.3 karena Exposure dgn hasil misi harian tidak muncul mesti harus sering refresh berkali kali.saya masih pakai versi 2.1.2', 'Aplikasi yang harus di pertahankan, karena pengerjaan cukup mudah, hanya nonton 10 detik iklan sebanyak 10x dalam sehari, semua orang juga bisa, dan tak memandang pendidikan, gelar semua bisa menuju sukses, tergantung kita sendiri , mau Sukses dengan jalan kaki, naik motor, atau naik pesawat, semua tergantung pilihan kita, intinya sabar dan konsisten dan rangkullah teman teman yang dekat, dengan cara merubah hiburan jadi penghasilan, semua Gratis... download aplikasi Vtube, masukan reperal 61117', 'Belum genap satu bulan sdh empat kali pembaruan di versi 2.0 mulai dr versi 2.0 sampai 2.3 itupun msh banyak bug dan eror nya... Perubahan signifikan dr fiture nya msh blom dirasakan... Hanya tampilan nya saja yg terlihat lebih keren... Kalo memang blom fix aplikasi nya jangan diterbitkan dlu... Mempersulit para pengguna dan member...dan juga boros kuota sdh 4kali pembaruan tp msh sama aja... Saran semoga ke depan nya lebih baik agar para pengguna lebih nyaman menggunakan nya.. salam sukses...', 'Aplikasi pembodohan yang sangat luar biasa. Iming-imingnya Daftar Gratis. Padahal ini jebakan awal. SAMPAH !! Ketika sudah masuk, masih bisa memang main gratisan, tapi perlu waktu lama dan tidak sepadan dengan hasilnya. Maka didesignlah sistem bernama fast track yang \"memaksa\" orang untuk beli poin bernama VP (View Point) agar cepat naik peringkat. Masih belum cukup sampai disitu, Anda juga secara tidak langsung akan digiring untuk selalu mencari member alias downline untuk bisa dapat bonus.', 'Kecewa sama vtube, saya pengguna lama, tapii makin banyak pengguna malah makinmenurun kualitas aplikasi nyaa... Sudah 5x lebih nonton iklan namun misi tdk bertambah, sudah 5 hari saya tidak menyelesaikan misi karna hal ituu... Sudah banyak iklan yg di tonton, hanya menghabiskan kuota saja, tapi tdk bertambah... mohon solusinya untuk pihak terkait Vtube. Kecewa saya, sangat kecewa..', 'For Develover : Menurut saya dan hanya saran saja Aplikasi Vtube memang sudah ada yang membuktikan tapi kalau menurut saya system diEC masih kurang lengkap dan akan lebih baik lagi jika pembayaran JUAL dan BELI melalui Bank bersama pembayarannya melalui BRIVA seperti marketplace2 seperti shopee, tokopedia, bukalapak dll. Untuk mengurangi tindak kejahatan. Dan seperti menu pada EC Hubungi Kami tidak berfungsi. Oh iya satu lagi kalau untuk diaplikasi Vtube juga sepertinya perlu ditingkatkan lagi.', 'Bagus sich...cuma untuk yg awam & gaptek terlalu rumit cara pencairannya, semoga bisa dibuat lebih simple & praktis dalam satu aplikasi jadi tidak membingungkan. Soal bintang bisa ditambah sesuai perkembangan😀😊', \"Vtube memang The best,,dan cara kerjanya mudah sekali tidak membuat kepala pusing karna berfikir🤗🤗dan untuk pihak yang berwajib saya harap untuk tetap mempertahankan bisnis ini karna banyak sekali yang sudah terbantu ke'Ekonomian nya.. Terimakasih🙏🙏\", 'pembaruan yg skrg kok sedikit menyebalkan ya? harus selalu di refresh bgt setiap mau liat view point. developer tolong diperbaiki ya, so far sih apknya udah bagus bgt. makasih juga udah bikin aplikasi ini, tp tolong bugnya diperbaiki. sukses selalu'], 'appId': 'co.vtube.fvtech', 'url': 'https://play.google.com/store/apps/details?id=co.vtube.fvtech&hl=id&gl=id'}\n"
          ]
        }
      ]
    },
    {
      "cell_type": "code",
      "source": [
        "app_infos_df = pd.DataFrame([result])\n",
        "app_infos_df.to_excel('apps.xlsx')"
      ],
      "metadata": {
        "id": "NgrjTrq8KS9N"
      },
      "execution_count": 51,
      "outputs": []
    },
    {
      "cell_type": "code",
      "source": [
        "app_infos_df"
      ],
      "metadata": {
        "colab": {
          "base_uri": "https://localhost:8080/",
          "height": 261
        },
        "id": "S_LCDXu-LcdU",
        "outputId": "dfa1cba0-b9b9-4db7-dd5e-dac319ed6a21"
      },
      "execution_count": 52,
      "outputs": [
        {
          "output_type": "execute_result",
          "data": {
            "text/plain": [
              "       title                                        description  \\\n",
              "0  vTube 3.0  vTube by Future View Tech (www.fvtech.id) is a...   \n",
              "\n",
              "                                     descriptionHTML  \\\n",
              "0  vTube by Future View Tech (www.fvtech.id) is a...   \n",
              "\n",
              "                                 summary     installs  minInstalls  \\\n",
              "0  Platform berbagi gaya hidup Indonesia  10.000.000+     10000000   \n",
              "\n",
              "   realInstalls     score  ratings  reviews  ... adSupported  containsAds  \\\n",
              "0      11463777  4.457627   326608   205102  ...        True         True   \n",
              "\n",
              "     released     updated  version  \\\n",
              "0  4 Jun 2020  1626678124    3.0.9   \n",
              "\n",
              "                                       recentChanges  \\\n",
              "0  See what the community has to share, ranging f...   \n",
              "\n",
              "                                   recentChangesHTML  \\\n",
              "0  See what the community has to share, ranging f...   \n",
              "\n",
              "                                            comments            appId  \\\n",
              "0  [Vtube mantap. Aplikasi versi 2.0 tampilannya ...  co.vtube.fvtech   \n",
              "\n",
              "                                                 url  \n",
              "0  https://play.google.com/store/apps/details?id=...  \n",
              "\n",
              "[1 rows x 45 columns]"
            ],
            "text/html": [
              "\n",
              "  <div id=\"df-6a7fed05-5f35-4e75-b707-7363747e21dc\">\n",
              "    <div class=\"colab-df-container\">\n",
              "      <div>\n",
              "<style scoped>\n",
              "    .dataframe tbody tr th:only-of-type {\n",
              "        vertical-align: middle;\n",
              "    }\n",
              "\n",
              "    .dataframe tbody tr th {\n",
              "        vertical-align: top;\n",
              "    }\n",
              "\n",
              "    .dataframe thead th {\n",
              "        text-align: right;\n",
              "    }\n",
              "</style>\n",
              "<table border=\"1\" class=\"dataframe\">\n",
              "  <thead>\n",
              "    <tr style=\"text-align: right;\">\n",
              "      <th></th>\n",
              "      <th>title</th>\n",
              "      <th>description</th>\n",
              "      <th>descriptionHTML</th>\n",
              "      <th>summary</th>\n",
              "      <th>installs</th>\n",
              "      <th>minInstalls</th>\n",
              "      <th>realInstalls</th>\n",
              "      <th>score</th>\n",
              "      <th>ratings</th>\n",
              "      <th>reviews</th>\n",
              "      <th>...</th>\n",
              "      <th>adSupported</th>\n",
              "      <th>containsAds</th>\n",
              "      <th>released</th>\n",
              "      <th>updated</th>\n",
              "      <th>version</th>\n",
              "      <th>recentChanges</th>\n",
              "      <th>recentChangesHTML</th>\n",
              "      <th>comments</th>\n",
              "      <th>appId</th>\n",
              "      <th>url</th>\n",
              "    </tr>\n",
              "  </thead>\n",
              "  <tbody>\n",
              "    <tr>\n",
              "      <th>0</th>\n",
              "      <td>vTube 3.0</td>\n",
              "      <td>vTube by Future View Tech (www.fvtech.id) is a...</td>\n",
              "      <td>vTube by Future View Tech (www.fvtech.id) is a...</td>\n",
              "      <td>Platform berbagi gaya hidup Indonesia</td>\n",
              "      <td>10.000.000+</td>\n",
              "      <td>10000000</td>\n",
              "      <td>11463777</td>\n",
              "      <td>4.457627</td>\n",
              "      <td>326608</td>\n",
              "      <td>205102</td>\n",
              "      <td>...</td>\n",
              "      <td>True</td>\n",
              "      <td>True</td>\n",
              "      <td>4 Jun 2020</td>\n",
              "      <td>1626678124</td>\n",
              "      <td>3.0.9</td>\n",
              "      <td>See what the community has to share, ranging f...</td>\n",
              "      <td>See what the community has to share, ranging f...</td>\n",
              "      <td>[Vtube mantap. Aplikasi versi 2.0 tampilannya ...</td>\n",
              "      <td>co.vtube.fvtech</td>\n",
              "      <td>https://play.google.com/store/apps/details?id=...</td>\n",
              "    </tr>\n",
              "  </tbody>\n",
              "</table>\n",
              "<p>1 rows × 45 columns</p>\n",
              "</div>\n",
              "      <button class=\"colab-df-convert\" onclick=\"convertToInteractive('df-6a7fed05-5f35-4e75-b707-7363747e21dc')\"\n",
              "              title=\"Convert this dataframe to an interactive table.\"\n",
              "              style=\"display:none;\">\n",
              "        \n",
              "  <svg xmlns=\"http://www.w3.org/2000/svg\" height=\"24px\"viewBox=\"0 0 24 24\"\n",
              "       width=\"24px\">\n",
              "    <path d=\"M0 0h24v24H0V0z\" fill=\"none\"/>\n",
              "    <path d=\"M18.56 5.44l.94 2.06.94-2.06 2.06-.94-2.06-.94-.94-2.06-.94 2.06-2.06.94zm-11 1L8.5 8.5l.94-2.06 2.06-.94-2.06-.94L8.5 2.5l-.94 2.06-2.06.94zm10 10l.94 2.06.94-2.06 2.06-.94-2.06-.94-.94-2.06-.94 2.06-2.06.94z\"/><path d=\"M17.41 7.96l-1.37-1.37c-.4-.4-.92-.59-1.43-.59-.52 0-1.04.2-1.43.59L10.3 9.45l-7.72 7.72c-.78.78-.78 2.05 0 2.83L4 21.41c.39.39.9.59 1.41.59.51 0 1.02-.2 1.41-.59l7.78-7.78 2.81-2.81c.8-.78.8-2.07 0-2.86zM5.41 20L4 18.59l7.72-7.72 1.47 1.35L5.41 20z\"/>\n",
              "  </svg>\n",
              "      </button>\n",
              "      \n",
              "  <style>\n",
              "    .colab-df-container {\n",
              "      display:flex;\n",
              "      flex-wrap:wrap;\n",
              "      gap: 12px;\n",
              "    }\n",
              "\n",
              "    .colab-df-convert {\n",
              "      background-color: #E8F0FE;\n",
              "      border: none;\n",
              "      border-radius: 50%;\n",
              "      cursor: pointer;\n",
              "      display: none;\n",
              "      fill: #1967D2;\n",
              "      height: 32px;\n",
              "      padding: 0 0 0 0;\n",
              "      width: 32px;\n",
              "    }\n",
              "\n",
              "    .colab-df-convert:hover {\n",
              "      background-color: #E2EBFA;\n",
              "      box-shadow: 0px 1px 2px rgba(60, 64, 67, 0.3), 0px 1px 3px 1px rgba(60, 64, 67, 0.15);\n",
              "      fill: #174EA6;\n",
              "    }\n",
              "\n",
              "    [theme=dark] .colab-df-convert {\n",
              "      background-color: #3B4455;\n",
              "      fill: #D2E3FC;\n",
              "    }\n",
              "\n",
              "    [theme=dark] .colab-df-convert:hover {\n",
              "      background-color: #434B5C;\n",
              "      box-shadow: 0px 1px 3px 1px rgba(0, 0, 0, 0.15);\n",
              "      filter: drop-shadow(0px 1px 2px rgba(0, 0, 0, 0.3));\n",
              "      fill: #FFFFFF;\n",
              "    }\n",
              "  </style>\n",
              "\n",
              "      <script>\n",
              "        const buttonEl =\n",
              "          document.querySelector('#df-6a7fed05-5f35-4e75-b707-7363747e21dc button.colab-df-convert');\n",
              "        buttonEl.style.display =\n",
              "          google.colab.kernel.accessAllowed ? 'block' : 'none';\n",
              "\n",
              "        async function convertToInteractive(key) {\n",
              "          const element = document.querySelector('#df-6a7fed05-5f35-4e75-b707-7363747e21dc');\n",
              "          const dataTable =\n",
              "            await google.colab.kernel.invokeFunction('convertToInteractive',\n",
              "                                                     [key], {});\n",
              "          if (!dataTable) return;\n",
              "\n",
              "          const docLinkHtml = 'Like what you see? Visit the ' +\n",
              "            '<a target=\"_blank\" href=https://colab.research.google.com/notebooks/data_table.ipynb>data table notebook</a>'\n",
              "            + ' to learn more about interactive tables.';\n",
              "          element.innerHTML = '';\n",
              "          dataTable['output_type'] = 'display_data';\n",
              "          await google.colab.output.renderOutput(dataTable, element);\n",
              "          const docLink = document.createElement('div');\n",
              "          docLink.innerHTML = docLinkHtml;\n",
              "          element.appendChild(docLink);\n",
              "        }\n",
              "      </script>\n",
              "    </div>\n",
              "  </div>\n",
              "  "
            ]
          },
          "metadata": {},
          "execution_count": 52
        }
      ]
    },
    {
      "cell_type": "markdown",
      "source": [
        "**Detail Reviews**"
      ],
      "metadata": {
        "id": "wRbRnfvkN4e9"
      }
    },
    {
      "cell_type": "code",
      "source": [
        "from google_play_scraper import Sort, reviews_all\n",
        "\n",
        "result_reviews = reviews_all(\n",
        "    app_packages,\n",
        "    sleep_milliseconds=0, # defaults to 0\n",
        "    lang='id', # defaults to 'en'\n",
        "    country='id', # defaults to 'us'\n",
        "    sort=Sort.MOST_RELEVANT, # defaults to Sort.MOST_RELEVANT\n",
        "    filter_score_with=None # defaults to None(means all score)\n",
        ")"
      ],
      "metadata": {
        "id": "_eJTz_90OSrF"
      },
      "execution_count": 54,
      "outputs": []
    },
    {
      "cell_type": "code",
      "source": [
        "len(result_reviews)"
      ],
      "metadata": {
        "colab": {
          "base_uri": "https://localhost:8080/"
        },
        "id": "q76FSA0TUyww",
        "outputId": "1125b4e4-ade4-492f-8525-6070ad905d66"
      },
      "execution_count": 57,
      "outputs": [
        {
          "output_type": "execute_result",
          "data": {
            "text/plain": [
              "135590"
            ]
          },
          "metadata": {},
          "execution_count": 57
        }
      ]
    },
    {
      "cell_type": "code",
      "source": [
        "app_reviews_df = pd.DataFrame(result_reviews)\n",
        "app_reviews_df.to_csv('reviews.csv',index=None, header=True)"
      ],
      "metadata": {
        "id": "ybHCKgQ2Pwdw"
      },
      "execution_count": 64,
      "outputs": []
    },
    {
      "cell_type": "code",
      "source": [
        "app_reviews_df.head()"
      ],
      "metadata": {
        "colab": {
          "base_uri": "https://localhost:8080/",
          "height": 582
        },
        "id": "n9BxaibgQo96",
        "outputId": "88a9501b-6e6e-4d9e-903d-b16ed0b5dce5"
      },
      "execution_count": 65,
      "outputs": [
        {
          "output_type": "execute_result",
          "data": {
            "text/plain": [
              "                               reviewId        userName  \\\n",
              "0  a160500d-afb6-49c9-a52b-1706fecfdfe9  asnedi shaedee   \n",
              "1  c8b01f12-d457-4288-9f13-1fae280d5ab0     Blacky Toon   \n",
              "2  d740fc38-ac96-4dc9-b5eb-ce9ede486ea5   Saroy Marthen   \n",
              "3  6e45dd6e-9558-4a55-aed2-260ca0b82909   Hayaturrohman   \n",
              "4  cdc017e1-4e25-4d9a-9559-0a3e26c4255f       Arya Zaki   \n",
              "\n",
              "                                           userImage  \\\n",
              "0  https://play-lh.googleusercontent.com/a-/AFdZu...   \n",
              "1  https://play-lh.googleusercontent.com/a-/AFdZu...   \n",
              "2  https://play-lh.googleusercontent.com/a/AItbvm...   \n",
              "3  https://play-lh.googleusercontent.com/a-/AFdZu...   \n",
              "4  https://play-lh.googleusercontent.com/a-/AFdZu...   \n",
              "\n",
              "                                             content  score  thumbsUpCount  \\\n",
              "0  Vtube mantap. Aplikasi versi 2.0 tampilannya o...      5            909   \n",
              "1  Masih harus ada pembenahan... Saat login msh a...      5             38   \n",
              "2  Mohon maaf sebelumnya, sebenarnya aplikasi vtu...      3            177   \n",
              "3  Saya akui aplikasi ini sudah cukup bermanfaat ...      5             22   \n",
              "4  Aplikasi yg sangat membangun semangat anak ban...      3              4   \n",
              "\n",
              "  reviewCreatedVersion                  at replyContent repliedAt  \n",
              "0                2.0.0 2020-09-02 10:34:47         None      None  \n",
              "1                1.1.1 2020-06-11 11:39:16         None      None  \n",
              "2                1.1.4 2020-08-09 15:17:07         None      None  \n",
              "3                2.1.0 2020-11-23 00:02:23         None      None  \n",
              "4                2.1.7 2021-02-16 02:58:45         None      None  "
            ],
            "text/html": [
              "\n",
              "  <div id=\"df-dc6da095-72af-43e8-9671-2fe60d5df32d\">\n",
              "    <div class=\"colab-df-container\">\n",
              "      <div>\n",
              "<style scoped>\n",
              "    .dataframe tbody tr th:only-of-type {\n",
              "        vertical-align: middle;\n",
              "    }\n",
              "\n",
              "    .dataframe tbody tr th {\n",
              "        vertical-align: top;\n",
              "    }\n",
              "\n",
              "    .dataframe thead th {\n",
              "        text-align: right;\n",
              "    }\n",
              "</style>\n",
              "<table border=\"1\" class=\"dataframe\">\n",
              "  <thead>\n",
              "    <tr style=\"text-align: right;\">\n",
              "      <th></th>\n",
              "      <th>reviewId</th>\n",
              "      <th>userName</th>\n",
              "      <th>userImage</th>\n",
              "      <th>content</th>\n",
              "      <th>score</th>\n",
              "      <th>thumbsUpCount</th>\n",
              "      <th>reviewCreatedVersion</th>\n",
              "      <th>at</th>\n",
              "      <th>replyContent</th>\n",
              "      <th>repliedAt</th>\n",
              "    </tr>\n",
              "  </thead>\n",
              "  <tbody>\n",
              "    <tr>\n",
              "      <th>0</th>\n",
              "      <td>a160500d-afb6-49c9-a52b-1706fecfdfe9</td>\n",
              "      <td>asnedi shaedee</td>\n",
              "      <td>https://play-lh.googleusercontent.com/a-/AFdZu...</td>\n",
              "      <td>Vtube mantap. Aplikasi versi 2.0 tampilannya o...</td>\n",
              "      <td>5</td>\n",
              "      <td>909</td>\n",
              "      <td>2.0.0</td>\n",
              "      <td>2020-09-02 10:34:47</td>\n",
              "      <td>None</td>\n",
              "      <td>None</td>\n",
              "    </tr>\n",
              "    <tr>\n",
              "      <th>1</th>\n",
              "      <td>c8b01f12-d457-4288-9f13-1fae280d5ab0</td>\n",
              "      <td>Blacky Toon</td>\n",
              "      <td>https://play-lh.googleusercontent.com/a-/AFdZu...</td>\n",
              "      <td>Masih harus ada pembenahan... Saat login msh a...</td>\n",
              "      <td>5</td>\n",
              "      <td>38</td>\n",
              "      <td>1.1.1</td>\n",
              "      <td>2020-06-11 11:39:16</td>\n",
              "      <td>None</td>\n",
              "      <td>None</td>\n",
              "    </tr>\n",
              "    <tr>\n",
              "      <th>2</th>\n",
              "      <td>d740fc38-ac96-4dc9-b5eb-ce9ede486ea5</td>\n",
              "      <td>Saroy Marthen</td>\n",
              "      <td>https://play-lh.googleusercontent.com/a/AItbvm...</td>\n",
              "      <td>Mohon maaf sebelumnya, sebenarnya aplikasi vtu...</td>\n",
              "      <td>3</td>\n",
              "      <td>177</td>\n",
              "      <td>1.1.4</td>\n",
              "      <td>2020-08-09 15:17:07</td>\n",
              "      <td>None</td>\n",
              "      <td>None</td>\n",
              "    </tr>\n",
              "    <tr>\n",
              "      <th>3</th>\n",
              "      <td>6e45dd6e-9558-4a55-aed2-260ca0b82909</td>\n",
              "      <td>Hayaturrohman</td>\n",
              "      <td>https://play-lh.googleusercontent.com/a-/AFdZu...</td>\n",
              "      <td>Saya akui aplikasi ini sudah cukup bermanfaat ...</td>\n",
              "      <td>5</td>\n",
              "      <td>22</td>\n",
              "      <td>2.1.0</td>\n",
              "      <td>2020-11-23 00:02:23</td>\n",
              "      <td>None</td>\n",
              "      <td>None</td>\n",
              "    </tr>\n",
              "    <tr>\n",
              "      <th>4</th>\n",
              "      <td>cdc017e1-4e25-4d9a-9559-0a3e26c4255f</td>\n",
              "      <td>Arya Zaki</td>\n",
              "      <td>https://play-lh.googleusercontent.com/a-/AFdZu...</td>\n",
              "      <td>Aplikasi yg sangat membangun semangat anak ban...</td>\n",
              "      <td>3</td>\n",
              "      <td>4</td>\n",
              "      <td>2.1.7</td>\n",
              "      <td>2021-02-16 02:58:45</td>\n",
              "      <td>None</td>\n",
              "      <td>None</td>\n",
              "    </tr>\n",
              "  </tbody>\n",
              "</table>\n",
              "</div>\n",
              "      <button class=\"colab-df-convert\" onclick=\"convertToInteractive('df-dc6da095-72af-43e8-9671-2fe60d5df32d')\"\n",
              "              title=\"Convert this dataframe to an interactive table.\"\n",
              "              style=\"display:none;\">\n",
              "        \n",
              "  <svg xmlns=\"http://www.w3.org/2000/svg\" height=\"24px\"viewBox=\"0 0 24 24\"\n",
              "       width=\"24px\">\n",
              "    <path d=\"M0 0h24v24H0V0z\" fill=\"none\"/>\n",
              "    <path d=\"M18.56 5.44l.94 2.06.94-2.06 2.06-.94-2.06-.94-.94-2.06-.94 2.06-2.06.94zm-11 1L8.5 8.5l.94-2.06 2.06-.94-2.06-.94L8.5 2.5l-.94 2.06-2.06.94zm10 10l.94 2.06.94-2.06 2.06-.94-2.06-.94-.94-2.06-.94 2.06-2.06.94z\"/><path d=\"M17.41 7.96l-1.37-1.37c-.4-.4-.92-.59-1.43-.59-.52 0-1.04.2-1.43.59L10.3 9.45l-7.72 7.72c-.78.78-.78 2.05 0 2.83L4 21.41c.39.39.9.59 1.41.59.51 0 1.02-.2 1.41-.59l7.78-7.78 2.81-2.81c.8-.78.8-2.07 0-2.86zM5.41 20L4 18.59l7.72-7.72 1.47 1.35L5.41 20z\"/>\n",
              "  </svg>\n",
              "      </button>\n",
              "      \n",
              "  <style>\n",
              "    .colab-df-container {\n",
              "      display:flex;\n",
              "      flex-wrap:wrap;\n",
              "      gap: 12px;\n",
              "    }\n",
              "\n",
              "    .colab-df-convert {\n",
              "      background-color: #E8F0FE;\n",
              "      border: none;\n",
              "      border-radius: 50%;\n",
              "      cursor: pointer;\n",
              "      display: none;\n",
              "      fill: #1967D2;\n",
              "      height: 32px;\n",
              "      padding: 0 0 0 0;\n",
              "      width: 32px;\n",
              "    }\n",
              "\n",
              "    .colab-df-convert:hover {\n",
              "      background-color: #E2EBFA;\n",
              "      box-shadow: 0px 1px 2px rgba(60, 64, 67, 0.3), 0px 1px 3px 1px rgba(60, 64, 67, 0.15);\n",
              "      fill: #174EA6;\n",
              "    }\n",
              "\n",
              "    [theme=dark] .colab-df-convert {\n",
              "      background-color: #3B4455;\n",
              "      fill: #D2E3FC;\n",
              "    }\n",
              "\n",
              "    [theme=dark] .colab-df-convert:hover {\n",
              "      background-color: #434B5C;\n",
              "      box-shadow: 0px 1px 3px 1px rgba(0, 0, 0, 0.15);\n",
              "      filter: drop-shadow(0px 1px 2px rgba(0, 0, 0, 0.3));\n",
              "      fill: #FFFFFF;\n",
              "    }\n",
              "  </style>\n",
              "\n",
              "      <script>\n",
              "        const buttonEl =\n",
              "          document.querySelector('#df-dc6da095-72af-43e8-9671-2fe60d5df32d button.colab-df-convert');\n",
              "        buttonEl.style.display =\n",
              "          google.colab.kernel.accessAllowed ? 'block' : 'none';\n",
              "\n",
              "        async function convertToInteractive(key) {\n",
              "          const element = document.querySelector('#df-dc6da095-72af-43e8-9671-2fe60d5df32d');\n",
              "          const dataTable =\n",
              "            await google.colab.kernel.invokeFunction('convertToInteractive',\n",
              "                                                     [key], {});\n",
              "          if (!dataTable) return;\n",
              "\n",
              "          const docLinkHtml = 'Like what you see? Visit the ' +\n",
              "            '<a target=\"_blank\" href=https://colab.research.google.com/notebooks/data_table.ipynb>data table notebook</a>'\n",
              "            + ' to learn more about interactive tables.';\n",
              "          element.innerHTML = '';\n",
              "          dataTable['output_type'] = 'display_data';\n",
              "          await google.colab.output.renderOutput(dataTable, element);\n",
              "          const docLink = document.createElement('div');\n",
              "          docLink.innerHTML = docLinkHtml;\n",
              "          element.appendChild(docLink);\n",
              "        }\n",
              "      </script>\n",
              "    </div>\n",
              "  </div>\n",
              "  "
            ]
          },
          "metadata": {},
          "execution_count": 65
        }
      ]
    }
  ]
}