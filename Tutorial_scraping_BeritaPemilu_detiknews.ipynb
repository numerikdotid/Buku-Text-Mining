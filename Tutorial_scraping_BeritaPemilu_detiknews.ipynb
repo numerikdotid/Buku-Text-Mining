{
  "nbformat": 4,
  "nbformat_minor": 0,
  "metadata": {
    "colab": {
      "provenance": [],
      "include_colab_link": true
    },
    "kernelspec": {
      "name": "python3",
      "display_name": "Python 3"
    },
    "language_info": {
      "name": "python"
    }
  },
  "cells": [
    {
      "cell_type": "markdown",
      "metadata": {
        "id": "view-in-github",
        "colab_type": "text"
      },
      "source": [
        "<a href=\"https://colab.research.google.com/github/numerikid/Buku-Text-Mining/blob/main/Tutorial_scraping_BeritaPemilu_detiknews.ipynb\" target=\"_parent\"><img src=\"https://colab.research.google.com/assets/colab-badge.svg\" alt=\"Open In Colab\"/></a>"
      ]
    },
    {
      "cell_type": "code",
      "execution_count": null,
      "metadata": {
        "id": "Rjl56TLGVl9c"
      },
      "outputs": [],
      "source": [
        "import requests as req\n",
        "from bs4 import BeautifulSoup as bs\n",
        "from datetime import datetime\n",
        "import csv\n",
        "\n",
        "hades = {'user-agent': 'Mozilla/5.0 (Windows NT 10.0; Win64; x64) AppleWebKit/537.36 (KHTML, like Gecko) Chrome/106.0.0.0 Safari/537.36'}"
      ]
    },
    {
      "cell_type": "code",
      "source": [
        "def scrape_detik(hal):\n",
        "    global hades\n",
        "    a = 1\n",
        "    for page in range(1,hal):\n",
        "        url = f'https://www.detik.com/search/searchnews?query=pemilu+2024&sortby=time&page={page}'\n",
        "        ge = req.get(url,hades).text\n",
        "        sop = bs(ge,'lxml')\n",
        "        li = sop.find('div',class_='list media_rows list-berita')\n",
        "        lin = li.find_all('article')\n",
        "        for x in lin:\n",
        "            link = x.find('a')['href']\n",
        "            date = x.find('a').find('span',class_='date').text.replace('WIB','').replace('detikNews','').split(',')[1]\n",
        "            headline = x.find('a').find('h2').text\n",
        "            ge_ = req.get(link,hades).text\n",
        "            sop_ = bs(ge_,'lxml')\n",
        "            content = sop_.find_all('div',class_='detail__body-text itp_bodycontent')\n",
        "            for x in content:\n",
        "                x = x.find_all('p')\n",
        "                y  = [y.text for y in x ]\n",
        "                content_ = ''.join(y).replace('\\n', '').replace('ADVERTISEMENT','').replace('SCROLL TO RESUME CONTENT','')\n",
        "                print(f'done[{a}] > {headline[0:10]}')\n",
        "                a += 1\n",
        "                with open('politik.csv','a')as file:\n",
        "                    wr = csv.writer(file, delimiter=',')\n",
        "                    wr.writerow([headline,date,link,content_])"
      ],
      "metadata": {
        "id": "-fbOyjvLVn64"
      },
      "execution_count": null,
      "outputs": []
    },
    {
      "cell_type": "code",
      "source": [
        "scrape_detik(3)"
      ],
      "metadata": {
        "colab": {
          "base_uri": "https://localhost:8080/"
        },
        "id": "9FGSQ4QtV2Sc",
        "outputId": "317cffee-75b7-4658-ef8b-9b54451f02fc"
      },
      "execution_count": null,
      "outputs": [
        {
          "output_type": "stream",
          "name": "stdout",
          "text": [
            "done[1] > Saling Ser\n",
            "done[2] > Bawaslu Pa\n",
            "done[3] > Singgung K\n",
            "done[4] > Fahri Hamz\n",
            "done[5] > AHY Singgu\n",
            "done[6] > Didampingi\n",
            "done[7] > Hanura Kud\n",
            "done[8] > Saling Ser\n",
            "done[9] > PD Jawab F\n",
            "done[10] > Serangan B\n",
            "done[11] > Dulu Doaka\n",
            "done[12] > 3 Serangan\n",
            "done[13] > Kader PPP \n",
            "done[14] > Jabar Hari\n",
            "done[15] > Wamendagri\n",
            "done[16] > Survei Vox\n",
            "done[17] > Survei Vox\n"
          ]
        }
      ]
    },
    {
      "cell_type": "code",
      "source": [],
      "metadata": {
        "id": "4hhhCA19OpjH"
      },
      "execution_count": null,
      "outputs": []
    },
    {
      "cell_type": "code",
      "source": [],
      "metadata": {
        "id": "DrYkYPlnOpwm"
      },
      "execution_count": null,
      "outputs": []
    }
  ]
}